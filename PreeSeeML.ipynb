{
 "cells": [
  {
   "cell_type": "markdown",
   "source": [
    "# PreeSee Data Analysis Project 2022\n",
    "Team Members: Niv Alterman, Snir Zelig, Sol Ben Zeev, Naama Goldbart\n"
   ],
   "metadata": {
    "collapsed": false,
    "pycharm": {
     "name": "#%% md\n"
    }
   }
  },
  {
   "cell_type": "markdown",
   "source": [
    "# Main Agenda"
   ],
   "metadata": {
    "collapsed": false,
    "pycharm": {
     "name": "#%% md\n"
    }
   }
  },
  {
   "cell_type": "markdown",
   "source": [
    "<strong>Classification</strong> is a task to produce a grouping of data points with the purpose of\n",
    "predicting the label."
   ],
   "metadata": {
    "collapsed": false,
    "pycharm": {
     "name": "#%% md\n"
    }
   }
  },
  {
   "cell_type": "markdown",
   "source": [
    "### Import Libraries and modules"
   ],
   "metadata": {
    "collapsed": false,
    "pycharm": {
     "name": "#%% md\n"
    }
   }
  },
  {
   "cell_type": "code",
   "execution_count": 2,
   "outputs": [],
   "source": [
    "# Core libraries\n",
    "import pandas as pd\n",
    "import numpy as np\n",
    "\n",
    "# Algorithm libraries & modules\n",
    "from sklearn.tree import DecisionTreeClassifier\n",
    "from sklearn import tree\n",
    "from sklearn import metrics\n",
    "\n",
    "# Visualization libraries & modules (Optional)\n",
    "import os\n",
    "os.environ[\"Path\"] += os.pathsep + 'C:\\\\Users\\\\MoraNaveh\\\\anaconda3\\\\Library\\\\bin\\\\graphviz'\n",
    "import pydotplus\n",
    "from IPython.display import Image"
   ],
   "metadata": {
    "collapsed": false,
    "pycharm": {
     "name": "#%%\n"
    }
   }
  },
  {
   "cell_type": "markdown",
   "source": [
    "### Data Preparation"
   ],
   "metadata": {
    "collapsed": false,
    "pycharm": {
     "name": "#%% md\n"
    }
   }
  },
  {
   "cell_type": "code",
   "execution_count": 3,
   "outputs": [],
   "source": [
    "# Define input file\n",
    "input_file = 'data/presee_data.csv'\n",
    "\n",
    "# Define class labels\n",
    "# df_class_names = ['OnTime','Delayed']"
   ],
   "metadata": {
    "collapsed": false,
    "pycharm": {
     "name": "#%%\n"
    }
   }
  },
  {
   "cell_type": "code",
   "execution_count": 4,
   "outputs": [],
   "source": [
    "# Define a function to create our dataframe\n",
    "\n",
    "def get_df(file):\n",
    "    df = pd.read_csv(file)\n",
    "    return df\n",
    "\n",
    "# Call the function\n",
    "df = get_df(input_file)"
   ],
   "metadata": {
    "collapsed": false,
    "pycharm": {
     "name": "#%%\n"
    }
   }
  },
  {
   "cell_type": "markdown",
   "source": [
    "### Explore The Data"
   ],
   "metadata": {
    "collapsed": false,
    "pycharm": {
     "name": "#%% md\n"
    }
   }
  },
  {
   "cell_type": "code",
   "execution_count": 6,
   "outputs": [
    {
     "name": "stdout",
     "output_type": "stream",
     "text": [
      "head\n",
      "    patient_id  gender  age  height_cm  weight_kg  bmi  ecg_test_score  \\\n",
      "0           1  Female   41        170         52   18             100   \n",
      "1           2    Male   26        173         60   20             100   \n",
      "2           3    Male   38        172         65   22             100   \n",
      "3           4  Female   39        160         67   26             100   \n",
      "4           5    Male   33        176         79   26             100   \n",
      "\n",
      "  ecg_weight  us_test_score us_weight  ...  overall_score smoking  \\\n",
      "0        30%            100       30%  ...             98      NO   \n",
      "1        30%            100       30%  ...             93     YES   \n",
      "2        30%            100       30%  ...             93     YES   \n",
      "3        30%            100       30%  ...             96      NO   \n",
      "4        30%            100       30%  ...             89      NO   \n",
      "\n",
      "   heart_disease_hist heart_disease_family_hist  bp_medication diabetes  \\\n",
      "0                  NO                        NO             NO       NO   \n",
      "1                  NO                       YES             NO       NO   \n",
      "2                  NO                        NO             NO       NO   \n",
      "3                  NO                        NO             NO       NO   \n",
      "4                  NO                        NO             NO       NO   \n",
      "\n",
      "  work_stress_level exercise_level bp_systolic bp_diastolic  \n",
      "0            02-מאי         04-מאי         112           75  \n",
      "1            02-מאי         01-מאי         128           84  \n",
      "2            02-מאי         04-מאי         117           79  \n",
      "3            04-מאי         03-מאי          96           61  \n",
      "4            02-מאי         03-מאי         117           76  \n",
      "\n",
      "[5 rows x 24 columns]\n",
      "columns\n",
      " Index(['patient_id', 'gender', 'age', 'height_cm', 'weight_kg', 'bmi',\n",
      "       'ecg_test_score', 'ecg_weight', 'us_test_score', 'us_weight',\n",
      "       'blood_test_score', 'blood_weight', 'personal_score', 'personal_weight',\n",
      "       'overall_score', 'smoking', 'heart_disease_hist',\n",
      "       'heart_disease_family_hist', 'bp_medication', 'diabetes',\n",
      "       'work_stress_level', 'exercise_level', 'bp_systolic', 'bp_diastolic'],\n",
      "      dtype='object')\n",
      "shape\n",
      " (1359, 24)\n",
      "<class 'pandas.core.frame.DataFrame'>\n",
      "RangeIndex: 1359 entries, 0 to 1358\n",
      "Data columns (total 24 columns):\n",
      " #   Column                     Non-Null Count  Dtype \n",
      "---  ------                     --------------  ----- \n",
      " 0   patient_id                 1359 non-null   int64 \n",
      " 1   gender                     1359 non-null   object\n",
      " 2   age                        1359 non-null   int64 \n",
      " 3   height_cm                  1359 non-null   int64 \n",
      " 4   weight_kg                  1359 non-null   int64 \n",
      " 5   bmi                        1359 non-null   int64 \n",
      " 6   ecg_test_score             1359 non-null   int64 \n",
      " 7   ecg_weight                 1359 non-null   object\n",
      " 8   us_test_score              1359 non-null   int64 \n",
      " 9   us_weight                  1359 non-null   object\n",
      " 10  blood_test_score           1359 non-null   int64 \n",
      " 11  blood_weight               1359 non-null   object\n",
      " 12  personal_score             1359 non-null   int64 \n",
      " 13  personal_weight            1359 non-null   object\n",
      " 14  overall_score              1359 non-null   int64 \n",
      " 15  smoking                    1359 non-null   object\n",
      " 16  heart_disease_hist         1359 non-null   object\n",
      " 17  heart_disease_family_hist  1359 non-null   object\n",
      " 18  bp_medication              1359 non-null   object\n",
      " 19  diabetes                   1359 non-null   object\n",
      " 20  work_stress_level          1359 non-null   object\n",
      " 21  exercise_level             1359 non-null   object\n",
      " 22  bp_systolic                1359 non-null   int64 \n",
      " 23  bp_diastolic               1359 non-null   int64 \n",
      "dtypes: int64(12), object(12)\n",
      "memory usage: 254.9+ KB\n",
      "info\n",
      " None\n",
      "describe\n",
      "         patient_id          age    height_cm    weight_kg          bmi  \\\n",
      "count  1359.000000  1359.000000  1359.000000  1359.000000  1359.000000   \n",
      "mean    680.000000    38.015453   172.484915    74.249448    24.877851   \n",
      "std     392.453819     9.200863     9.592870    16.853358     5.439839   \n",
      "min       1.000000     4.000000    82.000000     0.000000     0.000000   \n",
      "25%     340.500000    31.000000   166.000000    63.000000    22.000000   \n",
      "50%     680.000000    37.000000   173.000000    73.000000    24.000000   \n",
      "75%    1019.500000    44.000000   179.000000    84.000000    27.000000   \n",
      "max    1359.000000    82.000000   200.000000   177.000000   125.000000   \n",
      "\n",
      "       ecg_test_score  us_test_score  blood_test_score  personal_score  \\\n",
      "count     1359.000000    1359.000000       1359.000000     1359.000000   \n",
      "mean        96.512141      97.317145         83.320088       87.843267   \n",
      "std         14.044626      11.337191          9.313385        7.820784   \n",
      "min         40.000000      36.000000         39.000000       54.000000   \n",
      "25%        100.000000     100.000000         79.000000       83.500000   \n",
      "50%        100.000000     100.000000         87.000000       90.000000   \n",
      "75%        100.000000     100.000000         90.000000       94.000000   \n",
      "max        100.000000     100.000000        101.000000       99.000000   \n",
      "\n",
      "       overall_score  bp_systolic  bp_diastolic  \n",
      "count    1359.000000  1359.000000   1359.000000  \n",
      "mean       90.873436   120.208977     77.578366  \n",
      "std         7.451771    15.597917     10.670366  \n",
      "min        48.000000    80.000000     42.000000  \n",
      "25%        90.000000   110.000000     70.000000  \n",
      "50%        94.000000   120.000000     77.000000  \n",
      "75%        95.000000   129.000000     84.000000  \n",
      "max       100.000000   193.000000    125.000000  \n"
     ]
    }
   ],
   "source": [
    "# Define a function to explore the data\n",
    "def plot_properties (dataframe):\n",
    "    print('head\\n',dataframe.head(5))\n",
    "    print('columns\\n',dataframe.columns)\n",
    "    print('shape\\n', dataframe.shape)\n",
    "    print('info\\n', dataframe.info())\n",
    "    print('describe\\n', dataframe.describe())\n",
    "\n",
    "# Call the function\n",
    "plot_properties(df)"
   ],
   "metadata": {
    "collapsed": false,
    "pycharm": {
     "name": "#%%\n"
    }
   }
  },
  {
   "cell_type": "code",
   "execution_count": 10,
   "outputs": [
    {
     "data": {
      "text/plain": [
       "8"
      ]
     },
     "execution_count": 10,
     "metadata": {},
     "output_type": "execute_result"
    }
   ],
   "source": [
    "# Define a function that counts the number of columns in the dataframe\n",
    "def get_col_no(dataframe):\n",
    "    row_no, col_no = dataframe.shape\n",
    "    return col_no\n",
    "\n",
    "# Call the function\n",
    "col_no = get_col_no (df)\n",
    "\n",
    "# Show the number of columns\n",
    "col_no"
   ],
   "metadata": {
    "collapsed": false,
    "pycharm": {
     "name": "#%%\n"
    }
   }
  },
  {
   "cell_type": "code",
   "execution_count": 13,
   "outputs": [
    {
     "data": {
      "text/plain": [
       "['DAY_OF_WEEK',\n",
       " 'DEP_TIME',\n",
       " 'Weather',\n",
       " 'CARRIER_i',\n",
       " 'DEST_i',\n",
       " 'ORIGIN_i',\n",
       " 'Delayed']"
      ]
     },
     "execution_count": 13,
     "metadata": {},
     "output_type": "execute_result"
    }
   ],
   "source": [
    "# Define a function that shows the features (without the Train column)\n",
    "def get_feature_names(dataframe):\n",
    "    names = list(dataframe.columns)\n",
    "    features_names = names[:-1]\n",
    "    return features_names\n",
    "\n",
    "# Call the function\n",
    "df_features_names = get_feature_names(df)\n",
    "\n",
    "# Show the features names\n",
    "df_features_names"
   ],
   "metadata": {
    "collapsed": false,
    "pycharm": {
     "name": "#%%\n"
    }
   }
  },
  {
   "cell_type": "code",
   "execution_count": 15,
   "outputs": [
    {
     "data": {
      "text/plain": [
       "['DAY_OF_WEEK', 'DEP_TIME', 'Weather', 'CARRIER_i', 'DEST_i', 'ORIGIN_i']"
      ]
     },
     "execution_count": 15,
     "metadata": {},
     "output_type": "execute_result"
    }
   ],
   "source": [
    "# Define a function that shows the predictors (without the target column)\n",
    "def get_predictors_names(dataframe):\n",
    "    names = list(dataframe.columns)\n",
    "    predictors_names = names[:-2]\n",
    "    return predictors_names\n",
    "\n",
    "# Call the function\n",
    "df_predictors_names = get_predictors_names(df)\n",
    "\n",
    "# Show the predictors names\n",
    "df_predictors_names"
   ],
   "metadata": {
    "collapsed": false,
    "pycharm": {
     "name": "#%%\n"
    }
   }
  },
  {
   "cell_type": "markdown",
   "source": [
    "### Building The Decision Tree Model"
   ],
   "metadata": {
    "collapsed": false,
    "pycharm": {
     "name": "#%% md\n"
    }
   }
  },
  {
   "cell_type": "markdown",
   "source": [
    "#### Step 1: Saving the data in a multidimensional array"
   ],
   "metadata": {
    "collapsed": false,
    "pycharm": {
     "name": "#%% md\n"
    }
   }
  },
  {
   "cell_type": "code",
   "execution_count": 16,
   "outputs": [
    {
     "data": {
      "text/plain": [
       "array([[   4, 1455,    0, ...,    1,    0,    0],\n",
       "       [   4, 1640,    0, ...,    2,    0,    1],\n",
       "       [   4, 1245,    0, ...,    3,    0,    0],\n",
       "       ...,\n",
       "       [   6, 1558,    0, ...,    2,    0,    1],\n",
       "       [   6, 1403,    0, ...,    2,    0,    0],\n",
       "       [   6, 1736,    0, ...,    2,    0,    1]], dtype=int64)"
      ]
     },
     "execution_count": 16,
     "metadata": {},
     "output_type": "execute_result"
    }
   ],
   "source": [
    "# Define a function that saves the data in an array\n",
    "def get_nd(dataframe):\n",
    "    nd = dataframe.values\n",
    "    return nd\n",
    "\n",
    "# Call the function\n",
    "nd_values = get_nd(df)\n",
    "\n",
    "# Show the values\n",
    "nd_values"
   ],
   "metadata": {
    "collapsed": false,
    "pycharm": {
     "name": "#%%\n"
    }
   }
  },
  {
   "cell_type": "markdown",
   "source": [
    "#### Step 2: Split array into train and test"
   ],
   "metadata": {
    "collapsed": false,
    "pycharm": {
     "name": "#%% md\n"
    }
   }
  },
  {
   "cell_type": "code",
   "execution_count": 29,
   "outputs": [
    {
     "data": {
      "text/plain": [
       "array([[   4, 1455,    0, ...,    1,    0,    0],\n",
       "       [   4, 1245,    0, ...,    3,    0,    0],\n",
       "       [   4, 1035,    0, ...,    3,    0,    0],\n",
       "       ...,\n",
       "       [   6, 2111,    0, ...,    3,    0,    0],\n",
       "       [   6,  650,    0, ...,    3,    0,    0],\n",
       "       [   6, 1403,    0, ...,    2,    0,    0]], dtype=int64)"
      ]
     },
     "execution_count": 29,
     "metadata": {},
     "output_type": "execute_result"
    }
   ],
   "source": [
    "# Define a function that split the array into train and test data\n",
    "def get_nd_train_test(ndarray, train_index):\n",
    "    nd_train = ndarray[ndarray[:,col_no-1] == 1]\n",
    "    nd_test = ndarray[ndarray[:,col_no-1] == 0]\n",
    "    return nd_train, nd_test\n",
    "\n",
    "# Call the function\n",
    "nd_train_data, nd_test_data = get_nd_train_test (nd_values, col_no-1)\n",
    "\n",
    "# Show the train data\n",
    "nd_train_data"
   ],
   "metadata": {
    "collapsed": false,
    "pycharm": {
     "name": "#%%\n"
    }
   }
  },
  {
   "cell_type": "markdown",
   "source": [
    "#### Step 3: Predictors and label separations<br><br>(X - includes the predictors columns; Y - includes the label (target) column)"
   ],
   "metadata": {
    "collapsed": false,
    "pycharm": {
     "name": "#%% md\n"
    }
   }
  },
  {
   "cell_type": "code",
   "execution_count": 30,
   "outputs": [],
   "source": [
    "# Define a function that separates the predictors columns from the label (target) column\n",
    "def get_XY(ndarray):\n",
    "    X = ndarray[:,:-2]\n",
    "    Y = ndarray[:,-2]\n",
    "    return X, Y\n",
    "\n",
    "# Call the function\n",
    "x_train, y_train = get_XY (nd_train_data)\n",
    "x_test, y_test = get_XY (nd_test_data)"
   ],
   "metadata": {
    "collapsed": false,
    "pycharm": {
     "name": "#%%\n"
    }
   }
  },
  {
   "cell_type": "markdown",
   "source": [
    "#### Step 4: Build model with training data"
   ],
   "metadata": {
    "collapsed": false,
    "pycharm": {
     "name": "#%% md\n"
    }
   }
  },
  {
   "cell_type": "code",
   "execution_count": 31,
   "outputs": [],
   "source": [
    "# Define a function that will create a decision tree that classifies flights (characterized by the predictors) with similar label (target) (Delayed / OnTime)\n",
    "def get_clf(X,Y):\n",
    "    clf = DecisionTreeClassifier(criterion=\"gini\", min_impurity_decrease = 0.01)\n",
    "    clf.fit(X, Y)\n",
    "    return clf\n",
    "\n",
    "# Call the function\n",
    "dt_clf = get_clf(x_train,y_train)\n"
   ],
   "metadata": {
    "collapsed": false,
    "pycharm": {
     "name": "#%%\n"
    }
   }
  },
  {
   "cell_type": "markdown",
   "source": [
    "#### Step 5: Make predictions for testing data"
   ],
   "metadata": {
    "collapsed": false,
    "pycharm": {
     "name": "#%% md\n"
    }
   }
  },
  {
   "cell_type": "code",
   "execution_count": 34,
   "outputs": [],
   "source": [
    "# Define a function that takes the trained model and test it on unseen data (i.e., test data)\n",
    "def get_pred(classifier, X):\n",
    "    y_pred = classifier.predict(X)\n",
    "    return y_pred\n",
    "\n",
    "# Call the function\n",
    "dt_y_pred = get_pred(dt_clf, x_test)"
   ],
   "metadata": {
    "collapsed": false,
    "pycharm": {
     "name": "#%%\n"
    }
   }
  },
  {
   "cell_type": "markdown",
   "source": [
    "### Evaluate The Model"
   ],
   "metadata": {
    "collapsed": false,
    "pycharm": {
     "name": "#%% md\n"
    }
   }
  },
  {
   "cell_type": "markdown",
   "source": [
    "#### Step 6: Evaluate the model using the Accuracy Measure<br><br>Accuracy = Frequency of cases when the model is correct"
   ],
   "metadata": {
    "collapsed": false,
    "pycharm": {
     "name": "#%% md\n"
    }
   }
  },
  {
   "cell_type": "code",
   "execution_count": 36,
   "outputs": [
    {
     "data": {
      "text/plain": [
       "0.8095238095238095"
      ]
     },
     "execution_count": 36,
     "metadata": {},
     "output_type": "execute_result"
    }
   ],
   "source": [
    "# Define a function that calculates the accuracy\n",
    "def get_accuracy(test, pred):\n",
    "    accuracy = metrics.accuracy_score(test,pred)\n",
    "    return accuracy\n",
    "\n",
    "# Call the function\n",
    "dt_clf_accuracy = get_accuracy(y_test,dt_y_pred)\n",
    "\n",
    "# Show the Accuracy value\n",
    "dt_clf_accuracy"
   ],
   "metadata": {
    "collapsed": false,
    "pycharm": {
     "name": "#%%\n"
    }
   }
  },
  {
   "cell_type": "markdown",
   "source": [
    "### Visualize the Model (Optional)"
   ],
   "metadata": {
    "collapsed": false,
    "pycharm": {
     "name": "#%% md\n"
    }
   }
  },
  {
   "cell_type": "code",
   "execution_count": 39,
   "outputs": [],
   "source": [
    "# Define a function that transform the model results from numerical values into a graph\n",
    "def get_graph (classifier, predictors_names):\n",
    "    dot_data = tree.export_graphviz(classifier, out_file=None,\n",
    "                                    feature_names=predictors_names,\n",
    "                                    class_names=df_class_names)\n",
    "    graph = pydotplus.graph_from_dot_data(dot_data)\n",
    "    return graph\n",
    "\n",
    "# Call the function\n",
    "dt_graph = get_graph(dt_clf,df_predictors_names)"
   ],
   "metadata": {
    "collapsed": false,
    "pycharm": {
     "name": "#%%\n"
    }
   }
  },
  {
   "cell_type": "code",
   "execution_count": 41,
   "outputs": [],
   "source": [
    "# Define a function that saves the graph into PDF and JPEG files\n",
    "def save_graph(graph):\n",
    "    graph.write_pdf('DT flights.pdf')\n",
    "    graph.write_jpg('DT flights.jpg')\n",
    "\n",
    "# Call the function\n",
    "save_graph(dt_graph)"
   ],
   "metadata": {
    "collapsed": false,
    "pycharm": {
     "name": "#%%\n"
    }
   }
  },
  {
   "cell_type": "code",
   "execution_count": 43,
   "outputs": [
    {
     "data": {
      "image/png": "[encoded data removed]",
      "text/plain": [
       "<IPython.core.display.Image object>"
      ]
     },
     "execution_count": 43,
     "metadata": {},
     "output_type": "execute_result"
    }
   ],
   "source": [
    "# Define a function that creates an image of the decision tree graph\n",
    "def get_image(graph):\n",
    "    image=Image(graph.create_png())\n",
    "    return image\n",
    "\n",
    "# Call the function\n",
    "graph_image = get_image(dt_graph)\n",
    "\n",
    "# Show the image\n",
    "graph_image"
   ],
   "metadata": {
    "collapsed": false,
    "pycharm": {
     "name": "#%%\n"
    }
   }
  },
  {
   "cell_type": "code",
   "execution_count": null,
   "outputs": [],
   "source": [],
   "metadata": {
    "collapsed": false,
    "pycharm": {
     "name": "#%%\n"
    }
   }
  }
 ],
 "metadata": {
  "kernelspec": {
   "display_name": "Python 3",
   "language": "python",
   "name": "python3"
  },
  "language_info": {
   "codemirror_mode": {
    "name": "ipython",
    "version": 2
   },
   "file_extension": ".py",
   "mimetype": "text/x-python",
   "name": "python",
   "nbconvert_exporter": "python",
   "pygments_lexer": "ipython2",
   "version": "2.7.6"
  }
 },
 "nbformat": 4,
 "nbformat_minor": 0
}
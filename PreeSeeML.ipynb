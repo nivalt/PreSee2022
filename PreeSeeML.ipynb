{
 "cells": [
  {
   "cell_type": "markdown",
   "metadata": {
    "pycharm": {
     "name": "#%% md\n"
    }
   },
   "source": [
    "# PreeSee Data Analysis Project 2022\n",
    "Team Members: Niv Alterman, Snir Zelig, Sol Ben Zeev, Naama Goldbart\n"
   ]
  },
  {
   "cell_type": "markdown",
   "metadata": {
    "pycharm": {
     "name": "#%% md\n"
    }
   },
   "source": [
    "# Main Agenda"
   ]
  },
  {
   "cell_type": "markdown",
   "metadata": {
    "pycharm": {
     "name": "#%% md\n"
    }
   },
   "source": [
    "<strong>Classification</strong> is a task to produce a grouping of data points with the purpose of\n",
    "predicting the label.dsd"
   ]
  },
  {
   "cell_type": "markdown",
   "metadata": {
    "pycharm": {
     "name": "#%% md\n"
    }
   },
   "source": [
    "### Import Libraries and modules"
   ]
  },
  {
   "cell_type": "code",
   "execution_count": 1,
   "metadata": {
    "pycharm": {
     "name": "#%%\n"
    }
   },
   "outputs": [],
   "source": [
    "# Core libraries\n",
    "import pandas as pd\n",
    "import numpy as np\n",
    "\n",
    "# Algorithm libraries & modules\n",
    "from sklearn.tree import DecisionTreeClassifier\n",
    "from sklearn import tree\n",
    "from sklearn import metrics\n",
    "\n",
    "# Visualization libraries & modules (Optional)\n",
    "import os\n",
    "# os.environ[\"Path\"] += os.pathsep + 'C:\\\\Users\\\\MoraNaveh\\\\anaconda3\\\\Library\\\\bin\\\\graphviz'\n",
    "import pydotplus\n",
    "from IPython.display import Image"
   ]
  },
  {
   "cell_type": "markdown",
   "metadata": {
    "pycharm": {
     "name": "#%% md\n"
    }
   },
   "source": [
    "### Data Preparation"
   ]
  },
  {
   "cell_type": "code",
   "execution_count": 2,
   "metadata": {
    "pycharm": {
     "name": "#%%\n"
    }
   },
   "outputs": [],
   "source": [
    "# Define input file\n",
    "input_file = 'data/presee_data.csv'\n",
    "\n",
    "# Define class labels\n",
    "# df_class_names = ['OnTime','Delayed']"
   ]
  },
  {
   "cell_type": "code",
   "execution_count": 4,
   "metadata": {
    "pycharm": {
     "name": "#%%\n"
    }
   },
   "outputs": [],
   "source": [
    "def objects_to_nums(df):\n",
    "    df['gender'] = df['gender'].map({'Male':1, 'Female':0}).astype(int)\n",
    "    df['smoking'] = df['smoking'].map({'YES':1, 'NO':0})\n",
    "    df['heart_disease_hist'] = df['heart_disease_hist'].map({'YES':1, 'NO':0})\n",
    "    df['heart_disease_family_hist'] = df['heart_disease_hist'].map({'YES':1, 'NO':0})\n",
    "    df['bp_medication'] = df['bp_medication'].map({'YES':1, 'NO':0})\n",
    "    df['diabetes'] = df['diabetes'].map({'YES':1, 'NO':0})\n",
    "    df[\"work_stress_level\"] = df[\"work_stress_level\"].map({'0/5':0, '1/5':0.2, '2/5':0.4, '3/5':0.6, '4/5':0.8, '5/5':1})\n",
    "    df[\"exercise_level\"] = df[\"exercise_level\"].map({'0/5':0, '1/5':0.2, '2/5':0.4, '3/5':0.6, '4/5':0.8, '5/5':1})\n",
    "    return df\n",
    "    \n",
    "# df = objects_to_nums(df)"
   ]
  },
  {
   "cell_type": "code",
   "execution_count": null,
   "metadata": {
    "pycharm": {
     "name": "#%%\n"
    }
   },
   "outputs": [],
   "source": [
    "# df['overall_score']\n",
    "df['overall_score'].describe()"
   ]
  },
  {
   "cell_type": "code",
   "execution_count": 5,
   "metadata": {
    "pycharm": {
     "name": "#%%\n"
    }
   },
   "outputs": [
    {
     "ename": "NameError",
     "evalue": "name 'df' is not defined",
     "output_type": "error",
     "traceback": [
      "\u001B[1;31m---------------------------------------------------------------------------\u001B[0m",
      "\u001B[1;31mNameError\u001B[0m                                 Traceback (most recent call last)",
      "Input \u001B[1;32mIn [5]\u001B[0m, in \u001B[0;36m<cell line: 1>\u001B[1;34m()\u001B[0m\n\u001B[1;32m----> 1\u001B[0m \u001B[43mdf\u001B[49m[\u001B[38;5;124m'\u001B[39m\u001B[38;5;124moverall_score\u001B[39m\u001B[38;5;124m'\u001B[39m]\u001B[38;5;241m.\u001B[39mplot(kind\u001B[38;5;241m=\u001B[39m\u001B[38;5;124m'\u001B[39m\u001B[38;5;124mhist\u001B[39m\u001B[38;5;124m'\u001B[39m)\n",
      "\u001B[1;31mNameError\u001B[0m: name 'df' is not defined"
     ]
    }
   ],
   "source": [
    "df['overall_score'].plot(kind='hist')"
   ]
  },
  {
   "cell_type": "code",
   "execution_count": null,
   "metadata": {
    "pycharm": {
     "name": "#%%\n"
    }
   },
   "outputs": [],
   "source": [
    "# Define a function to create our dataframe\n",
    "\n",
    "def get_df(file):\n",
    "    df = pd.read_csv(file)\n",
    "    return df\n",
    "\n",
    "# Call the function\n",
    "df = get_df(input_file)"
   ]
  },
  {
   "cell_type": "markdown",
   "metadata": {
    "pycharm": {
     "name": "#%% md\n"
    }
   },
   "source": [
    "### Explore The Data"
   ]
  },
  {
   "cell_type": "code",
   "execution_count": null,
   "metadata": {
    "pycharm": {
     "name": "#%%\n"
    }
   },
   "outputs": [],
   "source": [
    "# Define a function to explore the data\n",
    "def plot_properties (dataframe):\n",
    "    print('head\\n',dataframe.head(5))\n",
    "    print('columns\\n',dataframe.columns)\n",
    "    print('shape\\n', dataframe.shape)\n",
    "    print('info\\n', dataframe.info())\n",
    "    print('describe\\n', dataframe.describe())\n",
    "\n",
    "# Call the function\n",
    "plot_properties(df)"
   ]
  },
  {
   "cell_type": "code",
   "execution_count": null,
   "metadata": {
    "pycharm": {
     "name": "#%%\n"
    }
   },
   "outputs": [],
   "source": [
    "# Define a function that counts the number of columns in the dataframe\n",
    "def get_col_no(dataframe):\n",
    "    row_no, col_no = dataframe.shape\n",
    "    return col_no\n",
    "\n",
    "# Call the function\n",
    "col_no = get_col_no (df)\n",
    "\n",
    "# Show the number of columns\n",
    "col_no"
   ]
  },
  {
   "cell_type": "code",
   "execution_count": null,
   "metadata": {
    "pycharm": {
     "name": "#%%\n"
    }
   },
   "outputs": [],
   "source": []
  },
  {
   "cell_type": "code",
   "execution_count": null,
   "metadata": {
    "pycharm": {
     "name": "#%%\n"
    }
   },
   "outputs": [],
   "source": [
    "# Define a function that shows the features (without the Train column)\n",
    "def get_feature_names(dataframe):\n",
    "    names = list(dataframe.columns)\n",
    "    features_names = names[:-1]\n",
    "    return features_names\n",
    "\n",
    "# Call the function\n",
    "df_features_names = get_feature_names(df)\n",
    "\n",
    "# Show the features names\n",
    "df_features_names"
   ]
  },
  {
   "cell_type": "code",
   "execution_count": null,
   "metadata": {
    "pycharm": {
     "name": "#%%\n"
    }
   },
   "outputs": [],
   "source": [
    "# Define a function that shows the predictors (without the target column)\n",
    "def get_predictors_names(dataframe):\n",
    "    names = list(dataframe.columns)\n",
    "    predictors_names = names[:-2]\n",
    "    return predictors_names\n",
    "\n",
    "# Call the function\n",
    "df_predictors_names = get_predictors_names(df)\n",
    "\n",
    "# Show the predictors names\n",
    "df_predictors_names"
   ]
  },
  {
   "cell_type": "markdown",
   "metadata": {
    "pycharm": {
     "name": "#%% md\n"
    }
   },
   "source": [
    "### Building The Decision Tree Model"
   ]
  },
  {
   "cell_type": "markdown",
   "metadata": {
    "pycharm": {
     "name": "#%% md\n"
    }
   },
   "source": [
    "#### Step 1: Saving the data in a multidimensional array"
   ]
  },
  {
   "cell_type": "code",
   "execution_count": null,
   "metadata": {
    "pycharm": {
     "name": "#%%\n"
    }
   },
   "outputs": [],
   "source": [
    "# Define a function that saves the data in an array\n",
    "def get_nd(dataframe):\n",
    "    nd = dataframe.values\n",
    "    return nd\n",
    "\n",
    "# Call the function\n",
    "nd_values = get_nd(df)\n",
    "\n",
    "# Show the values\n",
    "nd_values"
   ]
  },
  {
   "cell_type": "markdown",
   "metadata": {
    "pycharm": {
     "name": "#%% md\n"
    }
   },
   "source": [
    "#### Step 2: Split array into train and test"
   ]
  },
  {
   "cell_type": "code",
   "execution_count": null,
   "metadata": {
    "pycharm": {
     "name": "#%%\n"
    }
   },
   "outputs": [],
   "source": [
    "# Define a function that split the array into train and test data\n",
    "def get_nd_train_test(ndarray, train_index):\n",
    "    nd_train = ndarray[ndarray[:,col_no-1] == 1]\n",
    "    nd_test = ndarray[ndarray[:,col_no-1] == 0]\n",
    "    return nd_train, nd_test\n",
    "\n",
    "# Call the function\n",
    "nd_train_data, nd_test_data = get_nd_train_test (nd_values, col_no-1)\n",
    "\n",
    "# Show the train data\n",
    "nd_train_data"
   ]
  },
  {
   "cell_type": "markdown",
   "metadata": {
    "pycharm": {
     "name": "#%% md\n"
    }
   },
   "source": [
    "#### Step 3: Predictors and label separations<br><br>(X - includes the predictors columns; Y - includes the label (target) column)"
   ]
  },
  {
   "cell_type": "code",
   "execution_count": null,
   "metadata": {
    "pycharm": {
     "name": "#%%\n"
    }
   },
   "outputs": [],
   "source": [
    "# Define a function that separates the predictors columns from the label (target) column\n",
    "def get_XY(ndarray):\n",
    "    X = ndarray[:,:-2]\n",
    "    Y = ndarray[:,-2]\n",
    "    return X, Y\n",
    "\n",
    "# Call the function\n",
    "x_train, y_train = get_XY (nd_train_data)\n",
    "x_test, y_test = get_XY (nd_test_data)"
   ]
  },
  {
   "cell_type": "markdown",
   "metadata": {
    "pycharm": {
     "name": "#%% md\n"
    }
   },
   "source": [
    "#### Step 4: Build model with training data"
   ]
  },
  {
   "cell_type": "code",
   "execution_count": null,
   "metadata": {
    "pycharm": {
     "name": "#%%\n"
    }
   },
   "outputs": [],
   "source": [
    "# Define a function that will create a decision tree that classifies flights (characterized by the predictors) with similar label (target) (Delayed / OnTime)\n",
    "def get_clf(X,Y):\n",
    "    clf = DecisionTreeClassifier(criterion=\"gini\", min_impurity_decrease = 0.01)\n",
    "    clf.fit(X, Y)\n",
    "    return clf\n",
    "\n",
    "# Call the function\n",
    "dt_clf = get_clf(x_train,y_train)\n"
   ]
  },
  {
   "cell_type": "markdown",
   "metadata": {
    "pycharm": {
     "name": "#%% md\n"
    }
   },
   "source": [
    "#### Step 5: Make predictions for testing data"
   ]
  },
  {
   "cell_type": "code",
   "execution_count": null,
   "metadata": {
    "pycharm": {
     "name": "#%%\n"
    }
   },
   "outputs": [],
   "source": [
    "# Define a function that takes the trained model and test it on unseen data (i.e., test data)\n",
    "def get_pred(classifier, X):\n",
    "    y_pred = classifier.predict(X)\n",
    "    return y_pred\n",
    "\n",
    "# Call the function\n",
    "dt_y_pred = get_pred(dt_clf, x_test)"
   ]
  },
  {
   "cell_type": "markdown",
   "metadata": {
    "pycharm": {
     "name": "#%% md\n"
    }
   },
   "source": [
    "### Evaluate The Model"
   ]
  },
  {
   "cell_type": "markdown",
   "metadata": {
    "pycharm": {
     "name": "#%% md\n"
    }
   },
   "source": [
    "#### Step 6: Evaluate the model using the Accuracy Measure<br><br>Accuracy = Frequency of cases when the model is correct"
   ]
  },
  {
   "cell_type": "code",
   "execution_count": null,
   "metadata": {
    "pycharm": {
     "name": "#%%\n"
    }
   },
   "outputs": [],
   "source": [
    "# Define a function that calculates the accuracy\n",
    "def get_accuracy(test, pred):\n",
    "    accuracy = metrics.accuracy_score(test,pred)\n",
    "    return accuracy\n",
    "\n",
    "# Call the function\n",
    "dt_clf_accuracy = get_accuracy(y_test,dt_y_pred)\n",
    "\n",
    "# Show the Accuracy value\n",
    "dt_clf_accuracy"
   ]
  },
  {
   "cell_type": "markdown",
   "metadata": {
    "pycharm": {
     "name": "#%% md\n"
    }
   },
   "source": [
    "### Visualize the Model (Optional)"
   ]
  },
  {
   "cell_type": "code",
   "execution_count": null,
   "metadata": {
    "pycharm": {
     "name": "#%%\n"
    }
   },
   "outputs": [],
   "source": [
    "# Define a function that transform the model results from numerical values into a graph\n",
    "def get_graph (classifier, predictors_names):\n",
    "    dot_data = tree.export_graphviz(classifier, out_file=None,\n",
    "                                    feature_names=predictors_names,\n",
    "                                    class_names=df_class_names)\n",
    "    graph = pydotplus.graph_from_dot_data(dot_data)\n",
    "    return graph\n",
    "\n",
    "# Call the function\n",
    "dt_graph = get_graph(dt_clf,df_predictors_names)"
   ]
  },
  {
   "cell_type": "code",
   "execution_count": null,
   "metadata": {
    "pycharm": {
     "name": "#%%\n"
    }
   },
   "outputs": [],
   "source": [
    "# Define a function that saves the graph into PDF and JPEG files\n",
    "def save_graph(graph):\n",
    "    graph.write_pdf('DT flights.pdf')\n",
    "    graph.write_jpg('DT flights.jpg')\n",
    "\n",
    "# Call the function\n",
    "save_graph(dt_graph)"
   ]
  },
  {
   "cell_type": "code",
   "execution_count": null,
   "metadata": {
    "pycharm": {
     "name": "#%%\n"
    }
   },
   "outputs": [],
   "source": [
    "# Define a function that creates an image of the decision tree graph\n",
    "def get_image(graph):\n",
    "    image=Image(graph.create_png())\n",
    "    return image\n",
    "\n",
    "# Call the function\n",
    "graph_image = get_image(dt_graph)\n",
    "\n",
    "# Show the image\n",
    "graph_image"
   ]
  },
  {
   "cell_type": "code",
   "execution_count": null,
   "metadata": {
    "pycharm": {
     "name": "#%%\n"
    }
   },
   "outputs": [],
   "source": []
  },
  {
   "cell_type": "code",
   "execution_count": null,
   "metadata": {
    "pycharm": {
     "name": "#%%\n"
    }
   },
   "outputs": [],
   "source": []
  }
 ],
 "metadata": {
  "kernelspec": {
   "display_name": "Python 3 (ipykernel)",
   "language": "python",
   "name": "python3"
  },
  "language_info": {
   "codemirror_mode": {
    "name": "ipython",
    "version": 3
   },
   "file_extension": ".py",
   "mimetype": "text/x-python",
   "name": "python",
   "nbconvert_exporter": "python",
   "pygments_lexer": "ipython3",
   "version": "3.9.7"
  }
 },
 "nbformat": 4,
 "nbformat_minor": 1
}